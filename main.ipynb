{
 "cells": [
  {
   "cell_type": "code",
   "execution_count": 1,
   "metadata": {},
   "outputs": [],
   "source": [
    "# Importations\n",
    "from src.covid_cytof_dataset import CovidCytofDataset\n",
    "from src.models.simple_nn import SimpleNeuralNetwork\n",
    "from src.trainer import Trainer\n",
    "import torch\n",
    "from torch.utils.data import DataLoader, BatchSampler, random_split\n",
    "from itertools import chain\n",
    "from torch import nn"
   ]
  },
  {
   "cell_type": "code",
   "execution_count": 2,
   "metadata": {},
   "outputs": [
    {
     "name": "stdout",
     "output_type": "stream",
     "text": [
      "Using cuda device\n"
     ]
    }
   ],
   "source": [
    "# Get cpu or gpu device for training.\n",
    "device = \"cuda\" if torch.cuda.is_available() else \"mps\" if torch.backends.mps.is_available() else \"cpu\"\n",
    "print(f\"Using {device} device\")"
   ]
  },
  {
   "cell_type": "code",
   "execution_count": 3,
   "metadata": {},
   "outputs": [],
   "source": [
    "BATCH_SIZE = 10000"
   ]
  },
  {
   "cell_type": "code",
   "execution_count": 4,
   "metadata": {},
   "outputs": [
    {
     "name": "stderr",
     "output_type": "stream",
     "text": [
      "/home/evann/.cache/pypoetry/virtualenvs/covid-cytof-NoJZp_V7-py3.10/lib/python3.10/site-packages/openpyxl/worksheet/_reader.py:312: UserWarning: Unknown extension is not supported and will be removed\n",
      "  warn(msg)\n"
     ]
    },
    {
     "name": "stdout",
     "output_type": "stream",
     "text": [
      "Loading fcs data:\n"
     ]
    },
    {
     "name": "stderr",
     "output_type": "stream",
     "text": [
      "100%|██████████| 99/99 [00:22<00:00,  4.32it/s]\n"
     ]
    },
    {
     "name": "stdout",
     "output_type": "stream",
     "text": [
      "done\n"
     ]
    }
   ],
   "source": [
    "data = CovidCytofDataset(\"./data/attachments/COVID_CYTOF_BASIC_METADATA_STATUS_AGE_GROUP_SEX.xlsx\", \"./data\", BATCH_SIZE)"
   ]
  },
  {
   "cell_type": "code",
   "execution_count": 5,
   "metadata": {},
   "outputs": [],
   "source": [
    "train_data, test_data = random_split(list(BatchSampler(data, batch_size=BATCH_SIZE, drop_last=False)), [0.8, 0.2])\n",
    "train_data, test_data = list(chain.from_iterable(train_data)), list(chain.from_iterable(test_data))\n",
    "\n",
    "train_dataloader = DataLoader(train_data, batch_size=BATCH_SIZE, shuffle=False)\n",
    "test_dataloader = DataLoader(test_data, batch_size=BATCH_SIZE, shuffle=False)\n",
    "\n",
    "# del train_data, test_data"
   ]
  },
  {
   "cell_type": "code",
   "execution_count": 6,
   "metadata": {},
   "outputs": [
    {
     "name": "stdout",
     "output_type": "stream",
     "text": [
      "SimpleNeuralNetwork(\n",
      "  (linear_relu_stack): Sequential(\n",
      "    (0): Linear(in_features=61, out_features=500, bias=True)\n",
      "    (1): ReLU()\n",
      "    (2): Linear(in_features=500, out_features=500, bias=True)\n",
      "    (3): ReLU()\n",
      "    (4): Linear(in_features=500, out_features=500, bias=True)\n",
      "    (5): ReLU()\n",
      "    (6): Linear(in_features=500, out_features=500, bias=True)\n",
      "    (7): ReLU()\n",
      "    (8): Linear(in_features=500, out_features=500, bias=True)\n",
      "    (9): ReLU()\n",
      "    (10): Linear(in_features=500, out_features=1, bias=True)\n",
      "    (11): Sigmoid()\n",
      "  )\n",
      ")\n"
     ]
    }
   ],
   "source": [
    "model = SimpleNeuralNetwork(data.data.shape[1]).to(device)\n",
    "print(model)"
   ]
  },
  {
   "cell_type": "code",
   "execution_count": 7,
   "metadata": {},
   "outputs": [],
   "source": [
    "loss_fn = nn.MSELoss()\n",
    "optimizer = torch.optim.SGD(model.parameters(), lr=1e-3)\n",
    "\n",
    "trainer = Trainer(model, optimizer, loss_fn, device, epochs=50)"
   ]
  },
  {
   "cell_type": "code",
   "execution_count": 8,
   "metadata": {},
   "outputs": [
    {
     "name": "stderr",
     "output_type": "stream",
     "text": [
      "/home/evann/.cache/pypoetry/virtualenvs/covid-cytof-NoJZp_V7-py3.10/lib/python3.10/site-packages/torch/nn/modules/loss.py:536: UserWarning: Using a target size (torch.Size([10000])) that is different to the input size (torch.Size([10000, 1])). This will likely lead to incorrect results due to broadcasting. Please ensure they have the same size.\n",
      "  return F.mse_loss(input, target, reduction=self.reduction)\n"
     ]
    },
    {
     "name": "stdout",
     "output_type": "stream",
     "text": [
      "Train Epoch: 1 [0/800000 (0%)]\tLoss: 0.240196\n",
      "Test set: Average loss: 0.0000, Accuracy: 120000/190000 (63%)\n",
      "Train Epoch: 2 [0/800000 (0%)]\tLoss: 0.237396\n",
      "Test set: Average loss: 0.0000, Accuracy: 120000/190000 (63%)\n",
      "Train Epoch: 3 [0/800000 (0%)]\tLoss: 0.234653\n",
      "Test set: Average loss: 0.0000, Accuracy: 120000/190000 (63%)\n",
      "Train Epoch: 4 [0/800000 (0%)]\tLoss: 0.231963\n",
      "Test set: Average loss: 0.0000, Accuracy: 120000/190000 (63%)\n",
      "Train Epoch: 5 [0/800000 (0%)]\tLoss: 0.229326\n",
      "Test set: Average loss: 0.0000, Accuracy: 120000/190000 (63%)\n",
      "Train Epoch: 6 [0/800000 (0%)]\tLoss: 0.226740\n",
      "Test set: Average loss: 0.0000, Accuracy: 120000/190000 (63%)\n",
      "Train Epoch: 7 [0/800000 (0%)]\tLoss: 0.224205\n",
      "Test set: Average loss: 0.0000, Accuracy: 120000/190000 (63%)\n",
      "Train Epoch: 8 [0/800000 (0%)]\tLoss: 0.221719\n",
      "Test set: Average loss: 0.0000, Accuracy: 120000/190000 (63%)\n",
      "Train Epoch: 9 [0/800000 (0%)]\tLoss: 0.219281\n",
      "Test set: Average loss: 0.0000, Accuracy: 120000/190000 (63%)\n",
      "Train Epoch: 10 [0/800000 (0%)]\tLoss: 0.216890\n",
      "Test set: Average loss: 0.0000, Accuracy: 120000/190000 (63%)\n",
      "Train Epoch: 11 [0/800000 (0%)]\tLoss: 0.214545\n",
      "Test set: Average loss: 0.0000, Accuracy: 120000/190000 (63%)\n",
      "Train Epoch: 12 [0/800000 (0%)]\tLoss: 0.212244\n",
      "Test set: Average loss: 0.0000, Accuracy: 120000/190000 (63%)\n",
      "Train Epoch: 13 [0/800000 (0%)]\tLoss: 0.209988\n",
      "Test set: Average loss: 0.0000, Accuracy: 120000/190000 (63%)\n",
      "Train Epoch: 14 [0/800000 (0%)]\tLoss: 0.207774\n",
      "Test set: Average loss: 0.0000, Accuracy: 120000/190000 (63%)\n",
      "Train Epoch: 15 [0/800000 (0%)]\tLoss: 0.205601\n",
      "Test set: Average loss: 0.0000, Accuracy: 120000/190000 (63%)\n",
      "Train Epoch: 16 [0/800000 (0%)]\tLoss: 0.203470\n",
      "Test set: Average loss: 0.0000, Accuracy: 120000/190000 (63%)\n",
      "Train Epoch: 17 [0/800000 (0%)]\tLoss: 0.201378\n",
      "Test set: Average loss: 0.0000, Accuracy: 120000/190000 (63%)\n",
      "Train Epoch: 18 [0/800000 (0%)]\tLoss: 0.199325\n",
      "Test set: Average loss: 0.0000, Accuracy: 120000/190000 (63%)\n",
      "Train Epoch: 19 [0/800000 (0%)]\tLoss: 0.197310\n",
      "Test set: Average loss: 0.0000, Accuracy: 120000/190000 (63%)\n",
      "Train Epoch: 20 [0/800000 (0%)]\tLoss: 0.195333\n",
      "Test set: Average loss: 0.0000, Accuracy: 120000/190000 (63%)\n",
      "Train Epoch: 21 [0/800000 (0%)]\tLoss: 0.193392\n",
      "Test set: Average loss: 0.0000, Accuracy: 120000/190000 (63%)\n",
      "Train Epoch: 22 [0/800000 (0%)]\tLoss: 0.191487\n",
      "Test set: Average loss: 0.0000, Accuracy: 120000/190000 (63%)\n",
      "Train Epoch: 23 [0/800000 (0%)]\tLoss: 0.189617\n",
      "Test set: Average loss: 0.0000, Accuracy: 120000/190000 (63%)\n",
      "Train Epoch: 24 [0/800000 (0%)]\tLoss: 0.187781\n",
      "Test set: Average loss: 0.0000, Accuracy: 120000/190000 (63%)\n",
      "Train Epoch: 25 [0/800000 (0%)]\tLoss: 0.185978\n",
      "Test set: Average loss: 0.0000, Accuracy: 120000/190000 (63%)\n",
      "Train Epoch: 26 [0/800000 (0%)]\tLoss: 0.184208\n",
      "Test set: Average loss: 0.0000, Accuracy: 120000/190000 (63%)\n",
      "Train Epoch: 27 [0/800000 (0%)]\tLoss: 0.182470\n",
      "Test set: Average loss: 0.0000, Accuracy: 120000/190000 (63%)\n",
      "Train Epoch: 28 [0/800000 (0%)]\tLoss: 0.180764\n",
      "Test set: Average loss: 0.0000, Accuracy: 120000/190000 (63%)\n",
      "Train Epoch: 29 [0/800000 (0%)]\tLoss: 0.179088\n",
      "Test set: Average loss: 0.0000, Accuracy: 120000/190000 (63%)\n",
      "Train Epoch: 30 [0/800000 (0%)]\tLoss: 0.177443\n",
      "Test set: Average loss: 0.0000, Accuracy: 120000/190000 (63%)\n",
      "Train Epoch: 31 [0/800000 (0%)]\tLoss: 0.175827\n",
      "Test set: Average loss: 0.0000, Accuracy: 120000/190000 (63%)\n",
      "Train Epoch: 32 [0/800000 (0%)]\tLoss: 0.174240\n",
      "Test set: Average loss: 0.0000, Accuracy: 120000/190000 (63%)\n",
      "Train Epoch: 33 [0/800000 (0%)]\tLoss: 0.172682\n",
      "Test set: Average loss: 0.0000, Accuracy: 120000/190000 (63%)\n",
      "Train Epoch: 34 [0/800000 (0%)]\tLoss: 0.171151\n",
      "Test set: Average loss: 0.0000, Accuracy: 120000/190000 (63%)\n",
      "Train Epoch: 35 [0/800000 (0%)]\tLoss: 0.169648\n",
      "Test set: Average loss: 0.0000, Accuracy: 120000/190000 (63%)\n",
      "Train Epoch: 36 [0/800000 (0%)]\tLoss: 0.168171\n",
      "Test set: Average loss: 0.0000, Accuracy: 120000/190000 (63%)\n",
      "Train Epoch: 37 [0/800000 (0%)]\tLoss: 0.166720\n",
      "Test set: Average loss: 0.0000, Accuracy: 120000/190000 (63%)\n",
      "Train Epoch: 38 [0/800000 (0%)]\tLoss: 0.165295\n",
      "Test set: Average loss: 0.0000, Accuracy: 120000/190000 (63%)\n",
      "Train Epoch: 39 [0/800000 (0%)]\tLoss: 0.163896\n",
      "Test set: Average loss: 0.0000, Accuracy: 120000/190000 (63%)\n",
      "Train Epoch: 40 [0/800000 (0%)]\tLoss: 0.162520\n",
      "Test set: Average loss: 0.0000, Accuracy: 120000/190000 (63%)\n",
      "Train Epoch: 41 [0/800000 (0%)]\tLoss: 0.161170\n",
      "Test set: Average loss: 0.0000, Accuracy: 120000/190000 (63%)\n",
      "Train Epoch: 42 [0/800000 (0%)]\tLoss: 0.159842\n",
      "Test set: Average loss: 0.0000, Accuracy: 120000/190000 (63%)\n",
      "Train Epoch: 43 [0/800000 (0%)]\tLoss: 0.158539\n",
      "Test set: Average loss: 0.0000, Accuracy: 120000/190000 (63%)\n",
      "Train Epoch: 44 [0/800000 (0%)]\tLoss: 0.157257\n",
      "Test set: Average loss: 0.0000, Accuracy: 120000/190000 (63%)\n",
      "Train Epoch: 45 [0/800000 (0%)]\tLoss: 0.155999\n",
      "Test set: Average loss: 0.0000, Accuracy: 120000/190000 (63%)\n",
      "Train Epoch: 46 [0/800000 (0%)]\tLoss: 0.154762\n",
      "Test set: Average loss: 0.0000, Accuracy: 120000/190000 (63%)\n",
      "Train Epoch: 47 [0/800000 (0%)]\tLoss: 0.153547\n",
      "Test set: Average loss: 0.0000, Accuracy: 120000/190000 (63%)\n",
      "Train Epoch: 48 [0/800000 (0%)]\tLoss: 0.152353\n",
      "Test set: Average loss: 0.0000, Accuracy: 120000/190000 (63%)\n",
      "Train Epoch: 49 [0/800000 (0%)]\tLoss: 0.151179\n",
      "Test set: Average loss: 0.0000, Accuracy: 120000/190000 (63%)\n",
      "Train Epoch: 50 [0/800000 (0%)]\tLoss: 0.150026\n",
      "Test set: Average loss: 0.0000, Accuracy: 120000/190000 (63%)\n"
     ]
    }
   ],
   "source": [
    "trainer.run(train_dataloader, test_dataloader)"
   ]
  }
 ],
 "metadata": {
  "kernelspec": {
   "display_name": "covid-cytof-kKdDJC43-py3.10",
   "language": "python",
   "name": "python3"
  },
  "language_info": {
   "codemirror_mode": {
    "name": "ipython",
    "version": 3
   },
   "file_extension": ".py",
   "mimetype": "text/x-python",
   "name": "python",
   "nbconvert_exporter": "python",
   "pygments_lexer": "ipython3",
   "version": "3.10.9"
  },
  "orig_nbformat": 4,
  "vscode": {
   "interpreter": {
    "hash": "99753099265115546981f4710ceb45b33df501f9ba070816cfa9bc7a926ee7fd"
   }
  }
 },
 "nbformat": 4,
 "nbformat_minor": 2
}
